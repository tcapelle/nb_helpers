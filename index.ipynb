{
 "cells": [
  {
   "cell_type": "markdown",
   "id": "f8fb3383",
   "metadata": {},
   "source": [
    "![CI](https://github.com/wandb/nb_helpers/workflows/CI/badge.svg)\n",
    "[![codecov](https://codecov.io/gh/wandb/nb_helpers/branch/main/graph/badge.svg?token=2W6CRFZ7CB)](https://codecov.io/gh/wandb/nb_helpers)\n",
    "[![PyPI](https://img.shields.io/pypi/v/nb-helpers?color=blue&label=pypi%20version)](https://pypi.org/project/nb_helpers/#description)\n",
    "# nb_helpers\n",
    "\n",
    "A simple tool to clean, test and fix notebooks for your repo\n",
    "\n",
    "## Install\n",
    "You can install from pypi:"
   ]
  },
  {
   "cell_type": "code",
   "execution_count": null,
   "id": "94100b42",
   "metadata": {},
   "outputs": [],
   "source": [
    "%%bash\n",
    "pip install nb_helpers"
   ]
  },
  {
   "cell_type": "markdown",
   "id": "ba9e1f82",
   "metadata": {},
   "source": [
    "or get latest:"
   ]
  },
  {
   "cell_type": "code",
   "execution_count": null,
   "id": "79d3ddf4",
   "metadata": {},
   "outputs": [],
   "source": [
    "%%bash\n",
    "pip install -e ."
   ]
  },
  {
   "cell_type": "markdown",
   "id": "a14cb7e8",
   "metadata": {},
   "source": [
    "## Usage\n",
    "\n",
    "This little library gives you command line tools to clean, test and check your jupyter notebooks.\n",
    "\n",
    "- Clean: When you call `clean_nbs` it will strip notebooks from the metadata, this helps prevent git conflicts. You can also pass the flag `--clear_outs` and also remove cell outputs."
   ]
  },
  {
   "cell_type": "code",
   "execution_count": null,
   "id": "509bbcb9",
   "metadata": {},
   "outputs": [],
   "source": [
    "%%bash\n",
    "$ nb_helpers.clean_nbs --help                                                                                                                                   tcapelle at MBP14.local (-)(main)\n",
    "usage: nb_helpers.clean_nbs [-h] [--path PATH] [--clear_outs] [--verbose]\n",
    "\n",
    "Clean notebooks on `path` from useless metadata\n",
    "\n",
    "options:\n",
    "  -h, --help    show this help message and exit\n",
    "  --path PATH   The path to notebooks (default: .)\n",
    "  --clear_outs  Remove cell outputs (default: False)\n",
    "  --verbose     Rnun on verbose mdoe (default: False)"
   ]
  },
  {
   "cell_type": "markdown",
   "id": "ed02a12b",
   "metadata": {},
   "source": [
    "You can run this comman on this repo:"
   ]
  },
  {
   "cell_type": "code",
   "execution_count": null,
   "id": "94c09e97",
   "metadata": {},
   "outputs": [],
   "source": [
    "%%bash\n",
    "$ nb_helpers.clean_nbs\n",
    "> \n",
    "┏━━━━━━━━━━━━━━━━━━━━━━━━━━━━━━━━━━━━━━━━━━━━━━━━━┳━━━━━━━━┓                                                                     \n",
    "┃ Notebook Path                                   ┃ Status ┃\n",
    "┡━━━━━━━━━━━━━━━━━━━━━━━━━━━━━━━━━━━━━━━━━━━━━━━━━╇━━━━━━━━┩\n",
    "│ tests/data/dummy_folder/fail_nb.ipynb           │ Ok✔    │\n",
    "│ tests/data/dummy_folder/test_nb2.ipynb          │ Ok✔    │\n",
    "│ tests/data/dummy_folder/test_nb_all_slow.ipynb  │ Ok✔    │\n",
    "│ tests/data/dummy_folder/test_nb_some_slow.ipynb │ Ok✔    │\n",
    "│ tests/data/features_nb.ipynb                    │ Ok✔    │\n",
    "│ tests/data/test_nb.ipynb                        │ Ok✔    │\n",
    "└─────────────────────────────────────────────────┴────────┘"
   ]
  },
  {
   "cell_type": "markdown",
   "id": "dce6ba88",
   "metadata": {},
   "source": [
    "- Run: One can run the notebooks in `path` and get info about the execution."
   ]
  },
  {
   "cell_type": "code",
   "execution_count": null,
   "id": "f5f0031a",
   "metadata": {},
   "outputs": [],
   "source": [
    "%%bash\n",
    "$ nb_helpers.run_nbs --help                                                                                                                                     tcapelle at MBP14.local (-)(main)\n",
    "usage: nb_helpers.run_nbs [-h] [--path PATH] [--verbose] [--flags FLAGS] [--timeout TIMEOUT] [--lib_name LIB_NAME] [--no_run] [--post_issue]\n",
    "\n",
    "options:\n",
    "  -h, --help           show this help message and exit\n",
    "  --path PATH          A path to nb files (default: .)\n",
    "  --verbose            Print errors along the way (default: False)\n",
    "  --flags FLAGS        Space separated list of flags\n",
    "  --timeout TIMEOUT    Max runtime for each notebook, in seconds (default: 600)\n",
    "  --lib_name LIB_NAME  Python lib names to filter, eg: tensorflow\n",
    "  --no_run             Do not run any notebook (default: False)\n",
    "  --post_issue         Post the failure in github (default: False)"
   ]
  },
  {
   "cell_type": "markdown",
   "id": "dd16cf68",
   "metadata": {},
   "source": [
    "You get the following output inside this repo:"
   ]
  },
  {
   "cell_type": "code",
   "execution_count": null,
   "id": "4517a550",
   "metadata": {},
   "outputs": [],
   "source": [
    "%%bash\n",
    "$ nb_helpers.run_nbs\n",
    "CONSOLE.is_terminal(): True\n",
    "Writing output to run.csv"
   ]
  },
  {
   "cell_type": "markdown",
   "id": "53d56e2a",
   "metadata": {},
   "source": [
    "| Notebook Path |Status |Run Time |colab |\n",
    " |--- | --- | --- | --- |\n",
    " | dev_nbs/search.ipynb | Fail | 1 s | [open](https://colab.research.google.com/github/wandb/nb_helpers/blob/main/dev_nbs/search.ipynb) |\n",
    " | tests/data/dummy_folder/fail_nb.ipynb | Fail | 1 s | [open](https://colab.research.google.com/github/wandb/nb_helpers/blob/main/tests/data/dummy_folder/fail_nb.ipynb) |\n",
    " | tests/data/dummy_folder/test_nb2.ipynb | Ok | 0 s | [open](https://colab.research.google.com/github/wandb/nb_helpers/blob/main/tests/data/dummy_folder/test_nb2.ipynb) |\n",
    " | tests/data/dummy_folder/test_nb_all_slow.ipynb | Skipped | 0 s | [open](https://colab.research.google.com/github/wandb/nb_helpers/blob/main/tests/data/dummy_folder/test_nb_all_slow.ipynb) |\n",
    " | tests/data/dummy_folder/test_nb_some_slow.ipynb | Ok | 0 s | [open](https://colab.research.google.com/github/wandb/nb_helpers/blob/main/tests/data/dummy_folder/test_nb_some_slow.ipynb) |\n",
    " | tests/data/features_nb.ipynb | Ok | 0 s | [open](https://colab.research.google.com/github/wandb/nb_helpers/blob/main/tests/data/features_nb.ipynb) |\n",
    " | tests/data/test_nb.ipynb | Ok | 0 s | [open](https://colab.research.google.com/github/wandb/nb_helpers/blob/main/tests/data/test_nb.ipynb) |\n",
    "\n",
    "- Summary:\n",
    "You can get a summary of the notebooks in your project with the `nb_helpers.summary_nbs` function."
   ]
  },
  {
   "cell_type": "code",
   "execution_count": null,
   "id": "db6180d0",
   "metadata": {},
   "outputs": [],
   "source": [
    "%%bash\n",
    "$ nb_helpers.summary_nbs\n",
    "CONSOLE.is_terminal(): True\n",
    "Writing output to /Users/tcapelle/wandb/nb_helpers/logs/summary.csv\n",
    "Reading 6 notebooks\n",
    "┌───┬─────────────────────────────────────────────────┬────────────┬────────────────┬────────────────────────────────────────────────┬────────────┬───────┐\n",
    "│ # │ nb name                                         │ tracker    │ wandb features │ python libs                                    │ colab_cell │ colab │\n",
    "├───┼─────────────────────────────────────────────────┼────────────┼────────────────┼────────────────────────────────────────────────┼────────────┼───────┤\n",
    "│ 1 │ tests/data/dummy_folder/fail_nb.ipynb           │            │                │                                                │            │ open  │\n",
    "│ 2 │ tests/data/dummy_folder/test_nb2.ipynb          │            │                │                                                │            │ open  │\n",
    "│ 3 │ tests/data/dummy_folder/test_nb_all_slow.ipynb  │            │                │ time                                           │            │ open  │\n",
    "│ 4 │ tests/data/dummy_folder/test_nb_some_slow.ipynb │            │                │ time                                           │            │ open  │\n",
    "│ 5 │ tests/data/features_nb.ipynb                    │            │                │ typing, itertools                              │            │ open  │\n",
    "│ 6 │ tests/data/test_nb.ipynb                        │ 0: tracker │                │ os, sys, logging, pathlib, fastcore, itertools │ 1          │ open  │\n",
    "└───┴─────────────────────────────────────────────────┴────────────┴────────────────┴────────────────────────────────────────────────┴────────────┴───────┘"
   ]
  },
  {
   "cell_type": "markdown",
   "id": "d0a2f8c5",
   "metadata": {},
   "source": [
    "------------\n",
    "\n",
    "## Python Lib\n",
    "\n",
    "All this functions can also be used inside python:"
   ]
  },
  {
   "cell_type": "code",
   "execution_count": null,
   "id": "1ed81de6",
   "metadata": {},
   "outputs": [],
   "source": [
    "from pathlib import Path\n",
    "from nb_helpers.run import run_nbs\n",
    "\n",
    "examples_path = Path(\"examples/colabs\")\n",
    "\n",
    "errors = run_nbs(path=examples_path, verbose=True, timeout=600)"
   ]
  },
  {
   "cell_type": "markdown",
   "id": "d823050d",
   "metadata": {},
   "source": [
    "Also the library has many little functions to make your life easier inside the repo you are orchestrating:"
   ]
  },
  {
   "cell_type": "code",
   "execution_count": null,
   "id": "88db759b",
   "metadata": {},
   "outputs": [],
   "source": [
    "from pathlib import Path\n",
    "from nb_helpers.utils import *\n",
    "from nb_helpers.colab import *\n",
    "\n",
    "examples_path = Path(\"examples/colabs\")\n",
    "\n",
    "# get all nbs in the folder recursevely, filters hidden, non nb stuff\n",
    "nb_files = find_nbs(example_path)\n",
    "\n",
    "one_nb_path = nb_files[0]\n",
    "notebook = read_nb(one_nb_path)\n",
    "\n",
    "# get all libs imported\n",
    "libs = detect_imported_libs(notebook)\n",
    "\n",
    "# get remote github repo\n",
    "github_repo = git_origin_repo(one_nb_path)\n",
    "\n",
    "# detect if master is called main or master\n",
    "master_name = git_main_name(one_nb_path)\n",
    "\n",
    "# get colab link\n",
    "colab_url = get_colab_url(one_nb_path, branch) "
   ]
  }
 ],
 "metadata": {},
 "nbformat": 4,
 "nbformat_minor": 5
}
