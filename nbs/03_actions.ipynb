{
 "cells": [
  {
   "cell_type": "markdown",
   "metadata": {},
   "source": [
    "<a href=\"https://colab.research.google.com/github/wandb/nb_helpers/blob/main/nbs/03_actions.ipynb\" target=\"_parent\"><img src=\"https://colab.research.google.com/assets/colab-badge.svg\" alt=\"Open In Colab\"/></a>\n"
   ]
  },
  {
   "cell_type": "code",
   "execution_count": null,
   "metadata": {},
   "outputs": [],
   "source": [
    "#| default_exp actions"
   ]
  },
  {
   "cell_type": "markdown",
   "metadata": {},
   "source": [
    "# Github Actions\n",
    "> Some simple actions to keep stuff working"
   ]
  },
  {
   "cell_type": "code",
   "execution_count": null,
   "metadata": {},
   "outputs": [],
   "source": [
    "#| export\n",
    "from fastcore.all import *\n",
    "from ghapi.all import *\n",
    "\n",
    "from nb_helpers.utils import git_main_name, is_nb, git_origin_repo, git_local_repo"
   ]
  },
  {
   "cell_type": "code",
   "execution_count": null,
   "metadata": {},
   "outputs": [],
   "source": [
    "this_nb = Path(\"03_actions.ipynb\")"
   ]
  },
  {
   "cell_type": "code",
   "execution_count": null,
   "metadata": {},
   "outputs": [],
   "source": [
    "#| export\n",
    "def get_colab_url2md(fname: Path, branch=\"main\", github_repo=\"nb_helpers\", as_badge=False) -> str:\n",
    "    \"Create colab links in md\"\n",
    "    colab_url = f\"https://colab.research.google.com/github/{github_repo}/blob/{branch}/{str(fname)}\"\n",
    "    if not as_badge:\n",
    "        return f\"[{fname}]({colab_url})\"\n",
    "    return f\"[![badge](https://colab.research.google.com/assets/colab-badge.svg)]({colab_url})\""
   ]
  },
  {
   "cell_type": "code",
   "execution_count": null,
   "metadata": {},
   "outputs": [],
   "source": [
    "from IPython.display import display, Markdown"
   ]
  },
  {
   "cell_type": "code",
   "execution_count": null,
   "metadata": {},
   "outputs": [],
   "source": [
    "link = get_colab_url2md(this_nb)\n",
    "link"
   ]
  },
  {
   "cell_type": "code",
   "execution_count": null,
   "metadata": {},
   "outputs": [],
   "source": [
    "display(Markdown(link))"
   ]
  },
  {
   "cell_type": "code",
   "execution_count": null,
   "metadata": {},
   "outputs": [],
   "source": [
    "display(Markdown(get_colab_url2md(this_nb, as_badge=True)))"
   ]
  },
  {
   "cell_type": "code",
   "execution_count": null,
   "metadata": {},
   "outputs": [],
   "source": [
    "#| export\n",
    "def create_comment_body(title, nb_files, branch, github_repo) -> str:\n",
    "    \"Creates a MD list of fnames with links to colab\"\n",
    "    colab_links = tuple(get_colab_url2md(f, branch, github_repo) for f in nb_files)\n",
    "    body = tuplify(title) + colab_links\n",
    "    return \"\\n -\".join(body)"
   ]
  },
  {
   "cell_type": "code",
   "execution_count": null,
   "metadata": {},
   "outputs": [],
   "source": [
    "print(create_comment_body(\"Title\", [this_nb, this_nb, this_nb], \"main\", \"my_repo\"))"
   ]
  },
  {
   "cell_type": "code",
   "execution_count": null,
   "metadata": {},
   "outputs": [],
   "source": [
    "#| export\n",
    "def after_pr_colab_link(owner=\"wandb\", repo=\"nb_helpers\", token=None):\n",
    "    \"On PR post a comment with links to open in colab for each changed nb\"\n",
    "\n",
    "    api = GhApi(owner=owner, repo=repo, token=ifnone(token, github_token()))\n",
    "    payload = context_github.event\n",
    "\n",
    "    if \"workflow\" in payload:\n",
    "        issue = 1\n",
    "    else:\n",
    "        issue = payload.number\n",
    "    pr = payload.pull_request\n",
    "    github_repo = pr.head.repo.full_name\n",
    "    branch = pr.head.ref\n",
    "    pr_files = [Path(f.filename) for f in api.pulls.list_files(issue)]\n",
    "    print(f\"pr_files: {pr_files}\")\n",
    "\n",
    "    # filter nbs\n",
    "    nb_files = [f for f in pr_files if is_nb(f)]\n",
    "\n",
    "    title = \"The following colabs where changed\"\n",
    "\n",
    "    def _get_comment_id(issue):\n",
    "        comments = api.issues.list_comments(issue)\n",
    "        candidates = [c for c in comments if title in c.body]\n",
    "        if len(candidates) == 1:\n",
    "            comment_id = candidates[0].id\n",
    "        else:\n",
    "            comment_id = -1\n",
    "        return comment_id\n",
    "\n",
    "    if len(nb_files) > 0:\n",
    "        body = create_comment_body(title, nb_files, branch, github_repo)\n",
    "        comment_id = _get_comment_id(issue)\n",
    "        if comment_id > 0:\n",
    "            print(f\">> Updating comment on PR #{issue}\\n{body}\\n\")\n",
    "            api.issues.update_comment(comment_id, body)\n",
    "        else:\n",
    "            print(f\">> Creating comment on PR #{issue}\\n{body}\\n\")\n",
    "            api.issues.create_comment(issue_number=issue, body=body)"
   ]
  },
  {
   "cell_type": "code",
   "execution_count": null,
   "metadata": {},
   "outputs": [],
   "source": [
    "#| export\n",
    "def create_issue_nb_fail(fname, traceback=None, owner=\"wandb\", repo=\"nb_helpers\", token=None):\n",
    "    \"Creates issue of failing nb\"\n",
    "    print(\"=\"*75)\n",
    "    api = GhApi(owner=owner, repo=repo, token=ifnone(token, github_token()))\n",
    "    fname = fname.resolve()\n",
    "    github_repo = git_origin_repo(fname)\n",
    "    title = f\"Failed to run {fname}\"\n",
    "    branch = git_main_name(fname)\n",
    "    fname = fname.relative_to(git_local_repo(fname))\n",
    "    repo_url = f\"[{str(fname)}](https://github.com/{github_repo}/blob/{branch}/{str(fname)})\"\n",
    "    colab_url = get_colab_url2md(fname, branch, github_repo, as_badge=True)\n",
    "    traceback = ifnone(traceback, \"\")\n",
    "    body = (\n",
    "        \"The following notebooks failed to run:\\n\\n\"\n",
    "        \"|notebook name|               |\\n\"\n",
    "        \"|-------------|---------------|\\n\"\n",
    "        f\"| {repo_url}   | {colab_url} |\\n\\n\"\n",
    "        \"------------------------------\\n\"\n",
    "        \"The recovered traceback is:\\n\\n\"\n",
    "        \"```python\\n\"\n",
    "        f\"{traceback}\\n\"\n",
    "        \"```\"\n",
    "    )\n",
    "    api.issues.create(title=title, body=body, labels=[\"bug\"])"
   ]
  }
 ],
 "metadata": {
  "jupytext": {
   "split_at_heading": true
  },
  "kernelspec": {
   "display_name": "Python 3 (ipykernel)",
   "language": "python",
   "name": "python3"
  }
 },
 "nbformat": 4,
 "nbformat_minor": 4
}
